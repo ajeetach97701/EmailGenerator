{
 "cells": [
  {
   "cell_type": "code",
   "execution_count": 22,
   "metadata": {},
   "outputs": [],
   "source": [
    "import os \n",
    "from langchain_openai import ChatOpenAI\n",
    "from langchain.chains import RetrievalQA\n",
    "from langchain.schema.runnable import RunnableMap\n",
    "from langchain_community.vectorstores import Chroma\n",
    "from langchain.embeddings import HuggingFaceEmbeddings\n",
    "from langchain.agents import AgentType, initialize_agent\n",
    "from langchain.agents.agent_toolkits import GmailToolkit\n",
    "from langchain_core.output_parsers import StrOutputParser\n",
    "from langchain.text_splitter import RecursiveCharacterTextSplitter\n",
    "from langchain_core.prompts import ChatPromptTemplate, PromptTemplate\n",
    "from langchain_community.document_loaders.excel import UnstructuredExcelLoader"
   ]
  },
  {
   "cell_type": "markdown",
   "metadata": {},
   "source": [
    "## 1. Create a model"
   ]
  },
  {
   "cell_type": "code",
   "execution_count": 23,
   "metadata": {},
   "outputs": [],
   "source": [
    "OPENAI_API_KEY = os.getenv(\"OPENAI_API_KEY\")\n",
    "gmail_toolkit = GmailToolkit()\n",
    "llm=ChatOpenAI(temperature=0.0,model=\"gpt-3.5-turbo-1106\")"
   ]
  },
  {
   "cell_type": "markdown",
   "metadata": {},
   "source": [
    "### 2. Load the documents and split it"
   ]
  },
  {
   "cell_type": "code",
   "execution_count": 24,
   "metadata": {},
   "outputs": [],
   "source": [
    "# Load the document\n",
    "file_path = \"info.xlsx\"\n",
    "loader = UnstructuredExcelLoader(file_path)\n",
    "docs = loader.load()\n",
    "# Split the data\n",
    "text_splitter = RecursiveCharacterTextSplitter(chunk_size = 1000, chunk_overlap = 0)\n",
    "splits = text_splitter.split_documents(docs)\n",
    "\n"
   ]
  },
  {
   "cell_type": "markdown",
   "metadata": {},
   "source": [
    "## 3. Create embeddings and retriever"
   ]
  },
  {
   "cell_type": "code",
   "execution_count": 26,
   "metadata": {},
   "outputs": [],
   "source": [
    "\n",
    "# embedding = OpenAIEmbeddings(model = 'text-embedding-3-large')\n",
    "embeddings = HuggingFaceEmbeddings(model_name=\"sentence-transformers/all-MiniLM-L6-v2\")\n",
    "# To database\n",
    "\n",
    "db = Chroma.from_documents(documents= splits, embedding = embeddings)\n",
    "retreiver = db.as_retriever()\n",
    "\n",
    "prompt = \"\"\"\n",
    "You are a virtual assistant who answers users query. When a user asks a question  you have to answer him based on the context given in three back ticks and make sure to provide all the details.\n",
    "context: ```{context}```\n",
    "question is given in double back ticks : ``{question}``.\n",
    "If the questionis out of context, do not provide the wrong answer just say i am sorry i don't have an ansawer to that question.\n",
    "\"\"\"\n",
    "template = ChatPromptTemplate.from_template(prompt)\n",
    "output_parser = StrOutputParser()\n",
    "chain = RunnableMap(\n",
    "    {\n",
    "        \"context\": lambda x:db.similarity_search(x['question'], k =1),\n",
    "        \"question\": lambda x:x['question']\n",
    "    }\n",
    ")|template|llm|output_parser\n"
   ]
  },
  {
   "cell_type": "code",
   "execution_count": null,
   "metadata": {},
   "outputs": [],
   "source": []
  },
  {
   "cell_type": "markdown",
   "metadata": {},
   "source": [
    "### 2. Retrieving mails from ajeetacharya02@gmail.comm"
   ]
  },
  {
   "cell_type": "code",
   "execution_count": 40,
   "metadata": {},
   "outputs": [],
   "source": [
    "\n",
    "def check_for_mail():\n",
    "    # prompt = \"\"\"Your task is to check for new emails and return the output containing only the sender and subject of each email in JSON format\"\"\"\n",
    "    prompt = \"\"\"You have access to an external system that can check email. Please use it to see if I have received a new email. If there are any, format the response as a JSON object containing only the sender's email address , the subject line of each email and the contents in the email, separated by commas without double inverted commas in the output.\"\"\"\n",
    "\n",
    "    agent = initialize_agent(agent= AgentType.STRUCTURED_CHAT_ZERO_SHOT_REACT_DESCRIPTION,\n",
    "                            tools= gmail_toolkit.get_tools(), \n",
    "                            llm= llm, \n",
    "                            verbose = False, \n",
    "                            max_execution_time = 1600,\n",
    "                            max_iterations = 1000)\n",
    "    \n",
    "    # prompt = PromptTemplate(template=template)\n",
    "    response = agent.run(prompt.format())\n",
    "    return response\n",
    "\n",
    "response = check_for_mail()\n",
    "\n",
    "email_data = response['emails']\n",
    "ajeet_data = email_data[1]\n",
    "ajeet_data_sender = ajeet_data['sender']\n",
    "ajeet_data_subject = ajeet_data['subject']\n",
    "ajeet_data_contents = ajeet_data['contents']\n",
    "ajeet_data"
   ]
  },
  {
   "cell_type": "code",
   "execution_count": 47,
   "metadata": {},
   "outputs": [
    {
     "data": {
      "text/plain": [
       "'Yes, we offer home delivery for all our products. The delivery charge is $3. Shipping typically takes 3-5 business days. If you have any further questions, please feel free to contact our customer service team at +1 (800) 123-4567.'"
      ]
     },
     "execution_count": 47,
     "metadata": {},
     "output_type": "execute_result"
    }
   ],
   "source": [
    "result = chain.invoke({\"question\":ajeet_data_contents})\n",
    "result"
   ]
  },
  {
   "cell_type": "markdown",
   "metadata": {},
   "source": [
    "### 3. Check if there are any matching details about user mail in out database\n"
   ]
  },
  {
   "cell_type": "markdown",
   "metadata": {},
   "source": []
  },
  {
   "cell_type": "code",
   "execution_count": null,
   "metadata": {},
   "outputs": [],
   "source": []
  }
 ],
 "metadata": {
  "kernelspec": {
   "display_name": "Python 3",
   "language": "python",
   "name": "python3"
  },
  "language_info": {
   "codemirror_mode": {
    "name": "ipython",
    "version": 3
   },
   "file_extension": ".py",
   "mimetype": "text/x-python",
   "name": "python",
   "nbconvert_exporter": "python",
   "pygments_lexer": "ipython3",
   "version": "3.11.0"
  }
 },
 "nbformat": 4,
 "nbformat_minor": 2
}
