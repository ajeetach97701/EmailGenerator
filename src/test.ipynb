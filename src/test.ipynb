{
 "cells": [
  {
   "cell_type": "code",
   "execution_count": 19,
   "metadata": {},
   "outputs": [],
   "source": [
    "import os \n",
    "from langchain_openai import ChatOpenAI\n",
    "\n",
    "from langchain.chains import RetrievalQA\n",
    "from langchain.schema.runnable import RunnableMap\n",
    "from langchain_community.vectorstores import Chroma\n",
    "from langchain.embeddings import HuggingFaceEmbeddings\n",
    "from langchain.agents import AgentExecutor, initialize_agent, AgentType\n",
    "from langchain.agents.agent_toolkits import GmailToolkit\n",
    "from langchain_core.output_parsers import StrOutputParser\n",
    "from langchain.text_splitter import RecursiveCharacterTextSplitter\n",
    "from langchain_core.prompts import ChatPromptTemplate, PromptTemplate\n",
    "from langchain_community.document_loaders.excel import UnstructuredExcelLoader"
   ]
  },
  {
   "cell_type": "markdown",
   "metadata": {},
   "source": [
    "## 1. Create a model"
   ]
  },
  {
   "cell_type": "code",
   "execution_count": 20,
   "metadata": {},
   "outputs": [],
   "source": [
    "# from langchain.llms import Ollama\n",
    "# # llm = Ollama(base_url = \"http://localhost:11434\",model = \"llama2\")"
   ]
  },
  {
   "cell_type": "code",
   "execution_count": 21,
   "metadata": {},
   "outputs": [],
   "source": [
    "# OPENAI_API_KEY = os.getenv(\"OPENAI_API_KEY\")\n",
    "gmail_toolkit = GmailToolkit()\n",
    "llm=ChatOpenAI(temperature=0.0,model=\"gpt-3.5-turbo\")\n"
   ]
  },
  {
   "cell_type": "markdown",
   "metadata": {},
   "source": [
    "### 2. Load the documents and split it"
   ]
  },
  {
   "cell_type": "code",
   "execution_count": 22,
   "metadata": {},
   "outputs": [],
   "source": [
    "# from langchain_google_genai.embeddings import GoogleGenerativeAIEmbeddings\n",
    "# import google.generativeai as genai\n",
    "# from langchain_google_genai import ChatGoogleGenerativeAI\n",
    "\n",
    "# genai.configure(api_key=os.getenv(\"GOOGLE_API_KEY\"))\n",
    "# generation_config = {\n",
    "#     \"temperature\": 0.9,\n",
    "#     \"top_k\": 2,\n",
    "# }\n",
    "# llm = ChatGoogleGenerativeAI(model = \"gemini-pro\", generation_config =generation_config)\n"
   ]
  },
  {
   "cell_type": "code",
   "execution_count": 23,
   "metadata": {},
   "outputs": [],
   "source": [
    "\n",
    "# Load the document\n",
    "file_path = \"info.xlsx\"\n",
    "loader = UnstructuredExcelLoader(file_path)\n",
    "docs = loader.load()\n",
    "# Split the data\n",
    "text_splitter = RecursiveCharacterTextSplitter(chunk_size = 1000, chunk_overlap = 0)\n",
    "splits = text_splitter.split_documents(docs)\n",
    "\n",
    "# embeddings = OpenAIEmbeddings(model = 'text-embedding-3-large')\n",
    "embeddings = HuggingFaceEmbeddings(model_name=\"sentence-transformers/all-MiniLM-L6-v2\")\n",
    "\n",
    "# To database\n",
    "\n",
    "db = Chroma.from_documents(documents= splits, embedding = embeddings)\n",
    "retreiver = db.as_retriever()"
   ]
  },
  {
   "cell_type": "markdown",
   "metadata": {},
   "source": [
    "## 3. Create embeddings and retriever"
   ]
  },
  {
   "cell_type": "markdown",
   "metadata": {},
   "source": [
    "### 4. Retrieving mails from ajeetacharya02@gmail.comm"
   ]
  },
  {
   "cell_type": "code",
   "execution_count": 24,
   "metadata": {},
   "outputs": [
    {
     "data": {
      "text/plain": [
       "dict"
      ]
     },
     "execution_count": 24,
     "metadata": {},
     "output_type": "execute_result"
    }
   ],
   "source": [
    "output = {\"emails\":{\n",
    "    \"sender\": \"john.doe@example.com\",\n",
    "    \"subject\": \"delivery charge?\",\n",
    "    \"content\": \"What is the delivery charge?\",\n",
    "  }\n",
    "}\n",
    "type(output)"
   ]
  },
  {
   "cell_type": "code",
   "execution_count": 25,
   "metadata": {},
   "outputs": [],
   "source": [
    "def check_for_mail():\n",
    "    prompt =f\"\"\"You have access to an external system that can check email. Please use it to see if I have received a new email. If there are any, filter out non-essential ones such as newsletters, Blogs, promotional content and notifications.Use your expertise in email content analysis to distinguish emails from the rest, pay attention to the sender and avoid invalid emails. Return the response as a DICT containing the sender's email address,the subject line of each email and the contents in the email,  separated by commas without double inverted commas in the output.\"\"\"\n",
    "\n",
    "    agent = initialize_agent(agent= AgentType.STRUCTURED_CHAT_ZERO_SHOT_REACT_DESCRIPTION,\n",
    "                            tools= gmail_toolkit.get_tools(), \n",
    "                            llm= llm, \n",
    "                            verbose = True, \n",
    "                            max_execution_time = 1600,\n",
    "                            max_iterations = 1000)\n",
    "    gmail_toolkit.mark_as_read(os.getenv('MY_EMAIL'))\n",
    "    # prompt = PromptTemplate(template=template)\n",
    "    response = agent.run(prompt)\n",
    "    return response"
   ]
  },
  {
   "cell_type": "code",
   "execution_count": 26,
   "metadata": {},
   "outputs": [
    {
     "ename": "AttributeError",
     "evalue": "'GmailToolkit' object has no attribute 'mark_as_read'",
     "output_type": "error",
     "traceback": [
      "\u001b[0;31m---------------------------------------------------------------------------\u001b[0m",
      "\u001b[0;31mAttributeError\u001b[0m                            Traceback (most recent call last)",
      "Cell \u001b[0;32mIn[26], line 1\u001b[0m\n\u001b[0;32m----> 1\u001b[0m response \u001b[38;5;241m=\u001b[39m \u001b[43mcheck_for_mail\u001b[49m\u001b[43m(\u001b[49m\u001b[43m)\u001b[49m\n\u001b[1;32m      2\u001b[0m response\n",
      "Cell \u001b[0;32mIn[25], line 10\u001b[0m, in \u001b[0;36mcheck_for_mail\u001b[0;34m()\u001b[0m\n\u001b[1;32m      2\u001b[0m prompt \u001b[38;5;241m=\u001b[39m\u001b[38;5;124mf\u001b[39m\u001b[38;5;124m\"\"\"\u001b[39m\u001b[38;5;124mYou have access to an external system that can check email. Please use it to see if I have received a new email. If there are any, filter out non-essential ones such as newsletters, Blogs, promotional content and notifications.Use your expertise in email content analysis to distinguish emails from the rest, pay attention to the sender and avoid invalid emails. Return the response as a DICT containing the sender\u001b[39m\u001b[38;5;124m'\u001b[39m\u001b[38;5;124ms email address,the subject line of each email and the contents in the email,  separated by commas without double inverted commas in the output.\u001b[39m\u001b[38;5;124m\"\"\"\u001b[39m\n\u001b[1;32m      4\u001b[0m agent \u001b[38;5;241m=\u001b[39m initialize_agent(agent\u001b[38;5;241m=\u001b[39m AgentType\u001b[38;5;241m.\u001b[39mSTRUCTURED_CHAT_ZERO_SHOT_REACT_DESCRIPTION,\n\u001b[1;32m      5\u001b[0m                         tools\u001b[38;5;241m=\u001b[39m gmail_toolkit\u001b[38;5;241m.\u001b[39mget_tools(), \n\u001b[1;32m      6\u001b[0m                         llm\u001b[38;5;241m=\u001b[39m llm, \n\u001b[1;32m      7\u001b[0m                         verbose \u001b[38;5;241m=\u001b[39m \u001b[38;5;28;01mTrue\u001b[39;00m, \n\u001b[1;32m      8\u001b[0m                         max_execution_time \u001b[38;5;241m=\u001b[39m \u001b[38;5;241m1600\u001b[39m,\n\u001b[1;32m      9\u001b[0m                         max_iterations \u001b[38;5;241m=\u001b[39m \u001b[38;5;241m1000\u001b[39m)\n\u001b[0;32m---> 10\u001b[0m \u001b[43mgmail_toolkit\u001b[49m\u001b[38;5;241;43m.\u001b[39;49m\u001b[43mmark_as_read\u001b[49m(os\u001b[38;5;241m.\u001b[39mgetenv(\u001b[38;5;124m'\u001b[39m\u001b[38;5;124mMY_EMAIL\u001b[39m\u001b[38;5;124m'\u001b[39m))\n\u001b[1;32m     11\u001b[0m \u001b[38;5;66;03m# prompt = PromptTemplate(template=template)\u001b[39;00m\n\u001b[1;32m     12\u001b[0m response \u001b[38;5;241m=\u001b[39m agent\u001b[38;5;241m.\u001b[39mrun(prompt)\n",
      "\u001b[0;31mAttributeError\u001b[0m: 'GmailToolkit' object has no attribute 'mark_as_read'"
     ]
    }
   ],
   "source": [
    "response = check_for_mail()\n",
    "response"
   ]
  },
  {
   "cell_type": "code",
   "execution_count": null,
   "metadata": {},
   "outputs": [
    {
     "data": {
      "text/plain": [
       "dict"
      ]
     },
     "execution_count": 9,
     "metadata": {},
     "output_type": "execute_result"
    }
   ],
   "source": [
    "type(response)"
   ]
  },
  {
   "cell_type": "code",
   "execution_count": null,
   "metadata": {},
   "outputs": [
    {
     "ename": "NameError",
     "evalue": "name 'emails' is not defined",
     "output_type": "error",
     "traceback": [
      "\u001b[0;31m---------------------------------------------------------------------------\u001b[0m",
      "\u001b[0;31mNameError\u001b[0m                                 Traceback (most recent call last)",
      "Cell \u001b[0;32mIn[10], line 1\u001b[0m\n\u001b[0;32m----> 1\u001b[0m \u001b[43memails\u001b[49m\n",
      "\u001b[0;31mNameError\u001b[0m: name 'emails' is not defined"
     ]
    }
   ],
   "source": []
  },
  {
   "cell_type": "code",
   "execution_count": null,
   "metadata": {},
   "outputs": [],
   "source": []
  },
  {
   "cell_type": "code",
   "execution_count": null,
   "metadata": {},
   "outputs": [],
   "source": [
    "prompt = \"\"\"\n",
    "You are a virtual assistant who answers users query. When a user asks a question  \n",
    "you have to answer him based on the context given in three back ticks and make sure to provide each and every details.\n",
    "context: ```{context}```\n",
    "question is given in double back ticks : ``{question}``.\n",
    "Provide a good answer that is related to context and DONOT EXCEED MORE THAN 30 WORDS.\n",
    "If the question is out of context, do not provide the wrong answer just say i am sorry i don't have an answer to that question. Please contact info@palmminds.com or call to +977 9123123 for more info\n",
    "\n",
    "\"\"\""
   ]
  },
  {
   "cell_type": "markdown",
   "metadata": {},
   "source": [
    "prompt = \"\"\"\n",
    "\n",
    "You are a virtual assistant who answers users query. When a user asks a question  \n",
    "you have to answer him based on the context given in three back ticks and make sure to provide each and every details.\n",
    "context: ```{context}```\n",
    "question is given in double back ticks : ``{question}``.\n",
    "\n",
    "If the question is out of context, do not provide the wrong answer just say i am sorry i don't have an ansawer to that question.\n",
    "\n",
    "\"\"\""
   ]
  },
  {
   "cell_type": "code",
   "execution_count": null,
   "metadata": {},
   "outputs": [],
   "source": [
    "template = ChatPromptTemplate.from_template(prompt)\n",
    "output_parser = StrOutputParser()\n",
    "chain = RunnableMap(\n",
    "    {\n",
    "        \"context\": lambda x:db.similarity_search(x['question'], k =1),\n",
    "        \"question\": lambda x:x['question']\n",
    "    }\n",
    ")|template|llm|output_parser\n"
   ]
  },
  {
   "cell_type": "code",
   "execution_count": 27,
   "metadata": {},
   "outputs": [
    {
     "data": {
      "text/plain": [
       "{'emails': [{'sender': 'roshnithapaa@gmail.com',\n",
       "   'subject': 'CHITCHAT',\n",
       "   'content': 'Hello, how can i place my order?'},\n",
       "  {'sender': 'roshnithapaa@gmail.com',\n",
       "   'subject': 'place',\n",
       "   'content': 'i want to place order.'},\n",
       "  {'sender': 'roshnithapaa@gmail.com',\n",
       "   'subject': 'FLIGHT',\n",
       "   'content': 'I want to deliver myself to japan'},\n",
       "  {'sender': 'roshnithapaa@gmail.com',\n",
       "   'subject': 'flight',\n",
       "   'content': 'I want to go to japan'}]}"
      ]
     },
     "execution_count": 27,
     "metadata": {},
     "output_type": "execute_result"
    }
   ],
   "source": [
    "response"
   ]
  },
  {
   "cell_type": "code",
   "execution_count": 15,
   "metadata": {},
   "outputs": [
    {
     "data": {
      "text/plain": [
       "[{'sender': 'roshnithapaa@gmail.com',\n",
       "  'subject': 'CHITCHAT',\n",
       "  'content': 'Hello, how can i place my order?'},\n",
       " {'sender': 'roshnithapaa@gmail.com',\n",
       "  'subject': 'place',\n",
       "  'content': 'i want to place order.'},\n",
       " {'sender': 'roshnithapaa@gmail.com',\n",
       "  'subject': 'FLIGHT',\n",
       "  'content': 'I want to deliver myself to japan'},\n",
       " {'sender': 'roshnithapaa@gmail.com',\n",
       "  'subject': 'flight',\n",
       "  'content': 'I want to go to japan'}]"
      ]
     },
     "execution_count": 15,
     "metadata": {},
     "output_type": "execute_result"
    }
   ],
   "source": [
    "email_data = response['emails']\n",
    "email_data"
   ]
  },
  {
   "cell_type": "markdown",
   "metadata": {},
   "source": []
  },
  {
   "cell_type": "code",
   "execution_count": null,
   "metadata": {},
   "outputs": [
    {
     "data": {
      "text/plain": [
       "{'sender': 'roshnithapaa@gmail.com',\n",
       " 'subject': 'place',\n",
       " 'content': 'i want to place order.'}"
      ]
     },
     "execution_count": 20,
     "metadata": {},
     "output_type": "execute_result"
    }
   ],
   "source": [
    "to_send = email_data[1]"
   ]
  },
  {
   "cell_type": "code",
   "execution_count": null,
   "metadata": {},
   "outputs": [],
   "source": []
  },
  {
   "cell_type": "code",
   "execution_count": null,
   "metadata": {},
   "outputs": [],
   "source": [
    "import os, smtplib\n",
    "import email.message as em\n",
    "\n",
    "\n",
    "def send_email(to_email, subject, message):\n",
    "    smtp_server = os.getenv('SMTP_HOST')\n",
    "    smtp_port = int(os.getenv('SMTP_PORT'))  # Convert to int\n",
    "    sender_email = os.getenv('EMAIL_DEV')\n",
    "    password = os.getenv('EMAIL_PASSWORD')\n",
    "\n",
    "    msg = em.Message()\n",
    "    msg['From'] = sender_email\n",
    "    msg['To'] = to_email\n",
    "    msg['Subject'] = subject\n",
    "    msg.add_header('Content-Type', 'text/html')\n",
    "    msg.set_payload(message)\n",
    "\n",
    "    smtp = smtplib.SMTP(smtp_server, smtp_port)\n",
    "    smtp.starttls()\n",
    "    smtp.login(sender_email, password)\n",
    "    smtp.sendmail(msg['From'], [msg['To']], msg.as_string())\n",
    "    smtp.quit()\n",
    "    print(\"Successfully sent email to\", to_email)\n"
   ]
  },
  {
   "cell_type": "code",
   "execution_count": 16,
   "metadata": {},
   "outputs": [
    {
     "name": "stdout",
     "output_type": "stream",
     "text": [
      "Hello, how can i place my order?\n",
      "I am sorry, I don't have an answer to that question. Please contact info@palmminds.com or call +977 9123123 for more info.\n",
      "i want to place order.\n",
      "```i want to place order.```\n",
      "To place an order, visit our website and select the items you wish to purchase. Add them to your cart and proceed to checkout.\n",
      "I want to deliver myself to japan\n",
      "I am sorry I don't have an answer to that question. Please contact info@palmminds.com or call +977 9123123 for more info.\n",
      "I want to go to japan\n",
      "I am sorry I don't have an answer to that question. Please contact info@palmminds.com or call +977 9123123 for more info.\n"
     ]
    }
   ],
   "source": [
    "for email in email_data:\n",
    "    print(email['content'])\n",
    "    result = chain.invoke({\"question\":email['content']})\n",
    "    send_email(to_email=email['sender'], subject=email['subject'], message=result)\n",
    "    print(result)"
   ]
  },
  {
   "cell_type": "code",
   "execution_count": null,
   "metadata": {},
   "outputs": [],
   "source": []
  },
  {
   "cell_type": "code",
   "execution_count": null,
   "metadata": {},
   "outputs": [],
   "source": []
  },
  {
   "cell_type": "code",
   "execution_count": null,
   "metadata": {},
   "outputs": [],
   "source": []
  },
  {
   "cell_type": "code",
   "execution_count": null,
   "metadata": {},
   "outputs": [],
   "source": [
    "import os, smtplib\n",
    "import email.message \n",
    "\n",
    "\n",
    "def send_email(to_email, subject, message):\n",
    "    smtp_server = os.getenv('SMTP_HOST')\n",
    "    smtp_port = int(os.getenv('SMTP_PORT'))  # Convert to int\n",
    "    sender_email = os.getenv('EMAIL_DEV')\n",
    "    password = os.getenv('EMAIL_PASSWORD')\n",
    "\n",
    "    msg = email.message.Message()\n",
    "    msg['From'] = sender_email\n",
    "    msg['To'] = to_email\n",
    "    msg['Subject'] = subject\n",
    "    msg.add_header('Content-Type', 'text/html')\n",
    "    msg.set_payload(message)\n",
    "\n",
    "    smtp = smtplib.SMTP(smtp_server, smtp_port)\n",
    "    smtp.starttls()\n",
    "    smtp.login(sender_email, password)\n",
    "    smtp.sendmail(msg['From'], [msg['To']], msg.as_string())\n",
    "    smtp.quit()\n",
    "    print(\"Successfully sent email to\", to_email)\n"
   ]
  },
  {
   "cell_type": "code",
   "execution_count": null,
   "metadata": {},
   "outputs": [],
   "source": []
  }
 ],
 "metadata": {
  "kernelspec": {
   "display_name": "Python 3",
   "language": "python",
   "name": "python3"
  },
  "language_info": {
   "codemirror_mode": {
    "name": "ipython",
    "version": 3
   },
   "file_extension": ".py",
   "mimetype": "text/x-python",
   "name": "python",
   "nbconvert_exporter": "python",
   "pygments_lexer": "ipython3",
   "version": "3.11.0"
  }
 },
 "nbformat": 4,
 "nbformat_minor": 2
}
