{
 "cells": [
  {
   "cell_type": "code",
   "execution_count": 1,
   "metadata": {},
   "outputs": [],
   "source": [
    "import os \n",
    "from langchain_openai import ChatOpenAI\n",
    "\n",
    "from langchain.chains import RetrievalQA\n",
    "from langchain.schema.runnable import RunnableMap\n",
    "from langchain_community.vectorstores import Chroma\n",
    "from langchain.embeddings import HuggingFaceEmbeddings\n",
    "from langchain.agents import AgentExecutor, initialize_agent, AgentType\n",
    "from langchain.agents.agent_toolkits import GmailToolkit\n",
    "from langchain_core.output_parsers import StrOutputParser\n",
    "from langchain.text_splitter import RecursiveCharacterTextSplitter\n",
    "from langchain_core.prompts import ChatPromptTemplate, PromptTemplate\n",
    "from langchain_community.document_loaders.excel import UnstructuredExcelLoader"
   ]
  },
  {
   "cell_type": "markdown",
   "metadata": {},
   "source": [
    "## 1. Create a model"
   ]
  },
  {
   "cell_type": "code",
   "execution_count": 2,
   "metadata": {},
   "outputs": [],
   "source": [
    "# from langchain.llms import Ollama\n",
    "# # llm = Ollama(base_url = \"http://localhost:11434\",model = \"llama2\")"
   ]
  },
  {
   "cell_type": "code",
   "execution_count": 3,
   "metadata": {},
   "outputs": [],
   "source": [
    "# OPENAI_API_KEY = os.getenv(\"OPENAI_API_KEY\")\n",
    "gmail_toolkit = GmailToolkit()\n",
    "llm=ChatOpenAI(temperature=0.0,model=\"gpt-3.5-turbo\")\n"
   ]
  },
  {
   "cell_type": "markdown",
   "metadata": {},
   "source": [
    "### 2. Load the documents and split it"
   ]
  },
  {
   "cell_type": "code",
   "execution_count": 4,
   "metadata": {},
   "outputs": [],
   "source": [
    "# from langchain_google_genai.embeddings import GoogleGenerativeAIEmbeddings\n",
    "# import google.generativeai as genai\n",
    "# from langchain_google_genai import ChatGoogleGenerativeAI\n",
    "\n",
    "# genai.configure(api_key=os.getenv(\"GOOGLE_API_KEY\"))\n",
    "# generation_config = {\n",
    "#     \"temperature\": 0.9,\n",
    "#     \"top_k\": 2,\n",
    "# }\n",
    "# llm = ChatGoogleGenerativeAI(model = \"gemini-pro\", generation_config =generation_config)\n"
   ]
  },
  {
   "cell_type": "code",
   "execution_count": 5,
   "metadata": {},
   "outputs": [
    {
     "name": "stderr",
     "output_type": "stream",
     "text": [
      "/Volumes/Ajeet/EmailGenerator/EmailGen/lib/python3.11/site-packages/tqdm/auto.py:21: TqdmWarning: IProgress not found. Please update jupyter and ipywidgets. See https://ipywidgets.readthedocs.io/en/stable/user_install.html\n",
      "  from .autonotebook import tqdm as notebook_tqdm\n"
     ]
    }
   ],
   "source": [
    "\n",
    "# Load the document\n",
    "file_path = \"info.xlsx\"\n",
    "loader = UnstructuredExcelLoader(file_path)\n",
    "docs = loader.load()\n",
    "# Split the data\n",
    "text_splitter = RecursiveCharacterTextSplitter(chunk_size = 1000, chunk_overlap = 0)\n",
    "splits = text_splitter.split_documents(docs)\n",
    "\n",
    "# embeddings = OpenAIEmbeddings(model = 'text-embedding-3-large')\n",
    "embeddings = HuggingFaceEmbeddings(model_name=\"sentence-transformers/all-MiniLM-L6-v2\")\n",
    "\n",
    "# To database\n",
    "\n",
    "db = Chroma.from_documents(documents= splits, embedding = embeddings)\n",
    "retreiver = db.as_retriever()"
   ]
  },
  {
   "cell_type": "markdown",
   "metadata": {},
   "source": [
    "## 3. Create embeddings and retriever"
   ]
  },
  {
   "cell_type": "markdown",
   "metadata": {},
   "source": [
    "### 4. Retrieving mails from ajeetacharya02@gmail.comm"
   ]
  },
  {
   "cell_type": "code",
   "execution_count": 33,
   "metadata": {},
   "outputs": [
    {
     "data": {
      "text/plain": [
       "dict"
      ]
     },
     "execution_count": 33,
     "metadata": {},
     "output_type": "execute_result"
    }
   ],
   "source": [
    "output = {\"emails\":{\n",
    "    \"sender\": \"john.doe@example.com\",\n",
    "    \"subject\": \"delivery charge?\",\n",
    "    \"content\": \"What is the delivery charge?\",\n",
    "  }\n",
    "}\n",
    "type(output)"
   ]
  },
  {
   "cell_type": "code",
   "execution_count": 39,
   "metadata": {},
   "outputs": [],
   "source": [
    "def check_for_mail():\n",
    "    prompt =f\"\"\"You have access to an external system that can check email. Please use it to see if I have received a new email. If there are any, filter out non-essential ones such as newsletters, Blogs, promotional content and notifications.Use your expertise in email content analysis to distinguish emails from the rest, pay attention to the sender and avoid invalid emails. Return the response as a DICT containing the sender's email address,the subject line of each email and the contents in the email,  separated by commas without double inverted commas in the output.\"\"\"\n",
    "\n",
    "    agent = initialize_agent(agent= AgentType.STRUCTURED_CHAT_ZERO_SHOT_REACT_DESCRIPTION,\n",
    "                            tools= gmail_toolkit.get_tools(), \n",
    "                            llm= llm, \n",
    "                            verbose = True, \n",
    "                            max_execution_time = 1600,\n",
    "                            max_iterations = 1000)\n",
    "    \n",
    "    # prompt = PromptTemplate(template=template)\n",
    "    response = agent.run(prompt)\n",
    "    return response"
   ]
  },
  {
   "cell_type": "code",
   "execution_count": 40,
   "metadata": {},
   "outputs": [
    {
     "name": "stdout",
     "output_type": "stream",
     "text": [
      "\n",
      "\n",
      "\u001b[1m> Entering new AgentExecutor chain...\u001b[0m\n",
      "\u001b[32;1m\u001b[1;3mI will search your email for new messages and filter out non-essential ones based on the sender and content. Let's retrieve and analyze the emails to provide you with the relevant information.\n",
      "\n",
      "Action:\n",
      "```\n",
      "{\n",
      "  \"action\": \"search_gmail\",\n",
      "  \"action_input\": {\n",
      "    \"query\": \"is:unread\",\n",
      "    \"resource\": \"messages\",\n",
      "    \"max_results\": 10\n",
      "  }\n",
      "}\n",
      "```\n",
      "\n",
      "\u001b[0m\n",
      "Observation: \u001b[38;5;200m\u001b[1;3m[{'id': '18effb8d47a52aa4', 'threadId': '18effb8d47a52aa4', 'snippet': 'Hello, how can i place my order?', 'body': 'Hello, how can i place my order?\\r\\n', 'subject': 'CHITCHAT', 'sender': 'roshni thapaa <roshnithapaa@gmail.com>'}, {'id': '18eff27a6deab9fb', 'threadId': '18eff27a6deab9fb', 'snippet': 'i want to place order.', 'body': 'i want to place order.\\r\\n', 'subject': 'place', 'sender': 'roshni thapaa <roshnithapaa@gmail.com>'}, {'id': '18eff22b6a9477f1', 'threadId': '18eff22b6a9477f1', 'snippet': 'I want to deliver myself to japan', 'body': 'I want to deliver myself to japan\\r\\n', 'subject': 'FLIGHT', 'sender': 'roshni thapaa <roshnithapaa@gmail.com>'}, {'id': '18eff22064578864', 'threadId': '18eff22064578864', 'snippet': 'I want to go to japan', 'body': ' I want to go to japan\\r\\n', 'subject': 'flight', 'sender': 'roshni thapaa <roshnithapaa@gmail.com>'}, {'id': '18efed46d13d8da3', 'threadId': '18efed46d13d8da3', 'snippet': 'What is the delivery cost?', 'body': 'What is the delivery cost?\\r\\n', 'subject': 'Delivery Charge', 'sender': 'Ajeet Acharya <ajeetach97701@gmail.com>'}, {'id': '18efec7e1ca9418c', 'threadId': '18efec7e1ca9418c', 'snippet': 'EmailGenerator was granted access to your Google Account ajeetacharya02@gmail.com If you did not grant access, you should check this activity and secure your account. Check activity You can also see', 'body': '[image: Google]\\r\\nEmailGenerator was granted access to your Google Account\\r\\n\\r\\n\\r\\najeetacharya02@gmail.com\\r\\n\\r\\nIf you did not grant access, you should check this activity and secure your\\r\\naccount.\\r\\nCheck activity\\r\\n\\r\\nYou can also see security activity at\\r\\nhttps://myaccount.google.com/notifications\\r\\nYou received this email to let you know about important changes to your\\r\\nGoogle Account and services.\\r\\n© 2024 Google LLC, 1600 Amphitheatre Parkway, Mountain View, CA 94043, USA\\r\\n', 'subject': 'Security alert', 'sender': 'Google <no-reply@accounts.google.com>'}, {'id': '18ef8b670db2b6d5', 'threadId': '18ef8b670db2b6d5', 'snippet': 'Stay informed with Slack notifications Slack Stay informed with Slack notifications Learn how notifications work and how to customise them to suit your needs. For example, you can easily create a', 'body': \"Slack\\r\\n \\r\\n \\r\\n\\r\\n\\r\\n\\r\\n\\r\\n\\r\\n\\r\\n\\r\\n\\r\\n\\r\\n \\r\\n\\r\\n\\r\\n \\r\\n\\r\\n \\r\\n \\r\\n\\r\\n\\r\\n \\r\\n \\r\\n\\r\\n \\r\\n\\r\\n\\r\\n\\r\\n \\r\\nhttps://click.email.slackhq.com/?qs=5aeb9b1e50c2e88d1d9419ed24beae32b5457b46f74789e53aa004f70bd0ff92964d7c94ed2f4e25a57d1d553d26221658f9e44772d71e97 \\r\\n\\r\\n Stay informed with Slack notifications \\r\\n\\r\\n Learn how notifications work and how to customise them to suit your needs. For example, you can easily create a customised schedule to automatically pause notifications in Slack during any time that you specify.\\r\\n \\r\\n\\r\\n\\r\\n Whether you want to work distraction-free or be notified of the latest updates immediately, it's all just a click away.\\r\\n \\r\\n\\r\\n\\r\\n \\r\\n \\r\\n\\r\\n\\r\\nhttps://click.email.slackhq.com/?qs=5aeb9b1e50c2e88df8ea15ee17e8201b9f8a2ee345af91ec1eb4e32ed2fda7a923f9d0d27495a2543b17eee8112b6f78a16899887d498f38334611a1e736b362 \\r\\nVIEW TUTORIAL \\r\\n\\r\\n\\r\\nhttps://click.email.slackhq.com/?qs=5aeb9b1e50c2e88dd1834acd099ef92abbee69feaaee8758c555a20577341d2b5ea00fea53f9edfeff26ec102a40b636d12b040c1f43b1db01b2ee4e65c0bb49 \\r\\n\\r\\n\\r\\n \\r\\n\\r\\n \\r\\n\\r\\n\\r\\n \\r\\n \\r\\nhttps://click.email.slackhq.com/?qs=b6dec4f41dbe09aea131f5182af2a9fb14260877393906b328afa4019f2d8c7f40ad8bbc4faefa816d3a8703a224ee5dcfd2d1e8cf8d3431 \\r\\n\\r\\nhttps://click.email.slackhq.com/?qs=b6dec4f41dbe09ae07c9b8a3341d4950e15fe52c86fdf2e5a6aa6ec509648532d1295821b16f71e44f03fbc415bd353b6e4d40f42644fed5 \\r\\n\\r\\nhttps://click.email.slackhq.com/?qs=b6dec4f41dbe09ae037071336c66ae129fc343499bed4c70aa14e8174b9c6b1b69ec108698f79edd3cac2dfd203003f6a5b75e69f4bfbe0c \\r\\n\\r\\nhttps://click.email.slackhq.com/?qs=b6dec4f41dbe09ae511cec15cac49e5f80758f48611e96af808f56a0258063cdfa966bc0a5c1628ebc5d93664c6f325e91c52ffb09b433c1 \\r\\n\\r\\nhttps://click.email.slackhq.com/?qs=391ed5786fa1b675dedba7adaeab5cc20a903a5b0cfafb71bdea868816fb21ed8bb080ec4031dd99d580b68e1fcba5bf1038c5cc9cceaa89 \\r\\n\\r\\n©2024 Slack Technologies, LLC, a Salesforce company.\\r\\nSalesforce Tower, 415 Mission Street, 3rd Floor,  \\r\\n\\r\\nSan Francisco, CA 94105, United States\\r\\n\\r\\nhttps://click.email.slackhq.com/?qs=5aeb9b1e50c2e88d1d9419ed24beae32b5457b46f74789e53aa004f70bd0ff92964d7c94ed2f4e25a57d1d553d26221658f9e44772d71e97 \\r\\nslack.com \\r\\n\\r\\nSlack Technologies, Inc., 500 Howard Street, San Francisco, CA 94105 US \\r\\n\\r\\nhttps://click.email.slackhq.com/?qs=391ed5786fa1b6753784157dad3c0bb7fa68738ac7a2814c6c361a5009b3838ee1dc3cd3de8db08a4d6544759773fffb6a4283dcbf958c6713adb2e5643de955 \\r\\nOur blog  | \\r\\nhttps://click.email.slackhq.com/?qs=391ed5786fa1b6751c01acb15d6020fcc78ce514555f89b1158dbb1732e0476ae15a089f796b398570976f94ab44ecc4522d0c6730fea5e391f13432782a2883 \\r\\nUnsubscribe  | \\r\\nhttps://click.email.slackhq.com/?qs=391ed5786fa1b675ba34ccd8d25bfe156b2d705a2f53bb842a83e6fcffd5681f9a2c7cb7fc00714b972c00db058a81455f0e79cbe172cbf7 \\r\\nPolicies  \\r\\n\\r\\nhttps://click.email.slackhq.com/?qs=391ed5786fa1b675e3d8299a9f2b19843d849cff7c6e8ffa18760fe516410d665ca5b8c04e0eeaf8fdbd1e67f3abe36eb3fd3351a1cd4064 \\r\\nHelp Centre    |  \\r\\nhttps://click.email.slackhq.com/?qs=391ed5786fa1b675366b6b1ee3d41da29b9093ccb1ac1b30159bebce252d64fcae52da218d4d817ac3c44ac5013f8d509a72e87b711f235f \\r\\nSlack Community  \\r\\n \\r\\n \\r\\n\\r\\n\\r\\nAll rights reserved. Various trademarks held by their respective\\xa0owners.\\r\\n \\r\\n\\r\\n\\r\\n\\r\\n \\r\\n \\r\\n\\r\\n\\r\\n\\r\\n\\r\\nhttps://view.email.slackhq.com/?qs=be1b4792634b71aa19257853ae06a115cde82f9b5829a75250442f4a283080e6df7332b3ae779070e5c992d120b0a1344ec2ec0fb0b1f27a608e8830eb197a91b48ac01d19ef77d479cc468bc44afe00 \\r\\nView in browser \\r\\n\\r\\n\", 'subject': 'Easy ways to make Slack notifications work for you', 'sender': '\"Slack\" <no-reply@email.slackhq.com>'}, {'id': '18ef6e49da049ab2', 'threadId': '18ef6e49da049ab2', 'snippet': 'Tech skills that are transforming 2024͏\\u200c ͏\\u200c ͏\\u200c ͏\\u200c ͏\\u200c ͏\\u200c ͏\\u200c ͏\\u200c ͏\\u200c ͏\\u200c ͏\\u200c ͏\\u200c ͏\\u200c ͏\\u200c ͏\\u200c ͏\\u200c ͏\\u200c ͏\\u200c ͏\\u200c ͏\\u200c ͏\\u200c ͏\\u200c ͏\\u200c ͏\\u200c ͏\\u200c ͏\\u200c ͏\\u200c ͏\\u200c ͏\\u200c ͏\\u200c ͏\\u200c ͏\\u200c ͏\\u200c ͏\\u200c ͏\\u200c ͏\\u200c ͏\\u200c ͏\\u200c ͏\\u200c ͏\\u200c ͏\\u200c ͏\\u200c ͏\\u200c ͏\\u200c ͏\\u200c ͏\\u200c ͏\\u200c ͏\\u200c ͏\\u200c ͏\\u200c ͏\\u200c ͏\\u200c ͏\\u200c ͏\\u200c', 'body': '[April Learning Carnival](https://www.tutorialspoint.com/latest/certifications?utm_source=brevo&utm_campaign=APRIL19&utm_medium=email)\\r\\n[\"NOTHING IS MORE EXPENSIVE THAN A MISSED OPPORTUNITY.\"\\r\\n\\r\\n- H. Jackson Brown, Jr.](https://www.tutorialspoint.com/latest/certifications?utm_source=brevo&utm_campaign=APRIL19&utm_medium=email)\\r\\n\\r\\n[⏰ Time to Save Some Bucks](https://www.tutorialspoint.com/latest/certifications?utm_source=brevo&utm_campaign=APRIL19&utm_medium=email)\\r\\n\\r\\n[[Data Analytics]\\r\\n\\r\\nCyber Security Advanced Certification](https://www.tutorialspoint.com/certification/cyber-security-guide-for-2022/index.asp?utm_source=brevo&utm_campaign=APRIL19&utm_medium=email)\\t[[Advanced Certification In Cloud Computing And DevOps]\\r\\n\\r\\nAdvanced Certification In Cloud Computing And DevOps](https://www.tutorialspoint.com/certification/cloud-computing-and-devops-advanced-certification/index.asp?utm_source=brevo&utm_campaign=APRIL19&utm_medium=email)\\r\\n\\r\\n[[Java & Spring Boot Advanced Certification]\\r\\n\\r\\nJava & Spring Boot Advanced Certification](https://www.tutorialspoint.com/certification/ultimate-guide-to-java-and-spring-boot-for-2022/index.asp?utm_source=brevo&utm_campaign=APRIL19&utm_medium=email)\\t[[Advanced Certification In Business Analytics]\\r\\n\\r\\nAdvanced Certification In Business Analytics](https://www.tutorialspoint.com/certification/advanced-certification-in-business-analytics/index.asp?utm_source=brevo&utm_campaign=APRIL19&utm_medium=email)\\r\\n[Annual Membership](https://www.tutorialspoint.com/market/business/subscription.jsp?utm_source=brevo&utm_campaign=APRIL19&utm_medium=email)\\r\\n\\r\\n45+ Certification Programs Included\\r\\n\\r\\n[-  10000+ Video Courses\\r\\n-  Course Completion Certificate\\r\\n-  5000+ Industry experts\\r\\n-  150+ Technologies\\r\\n-  24*7 Technical support\\r\\n-  300 new courses added every month\\r\\n-  500 eBooks (Tutorials Point)](https://www.tutorialspoint.com/market/business/subscription.jsp?utm_source=brevo&utm_campaign=APRIL19&utm_medium=email)\\r\\n\\r\\nUse Code - SKILL65\\r\\n\\r\\n[Subscribe Now](https://www.tutorialspoint.com/market/business/subscription.jsp?utm_source=brevo&utm_campaign=APRIL19&utm_medium=email)\\r\\n[www.tutorialspoint.com](https://www.tutorialspoint.com?utm_source=brevo&utm_campaign=APRIL19&utm_medium=email)\\r\\n\\r\\nHyderabad, Telangana, INDIA\\r\\n\\r\\n', 'subject': '48 Hours Left: Act Now or Miss Out!', 'sender': 'Tutorials Point <webmaster@tutorialspoint.com>'}, {'id': '18ef6d8645a5c43f', 'threadId': '18ef6d8645a5c43f', 'snippet': '👋 Psst, want 25% off Notion websites? Hey Ajeet We&#39;ll keep this short and sweet: could we make a step in your direction by offering you more bang for your buck? If you want to save some cash and', 'body': ' Image [https://maillinkforward.encharge.io/ls/click?upn=u001.DuLmpRm9AaERwc7263RJPa16KDvFESJd-2BjsI6xmoXFhOhnf9rOzVMK2pcxVUtm6qUyn4f7cddnhZbPT4q-2FBg6hE2cDBzySZvKe9GntGywYaUnyYnas1EA3aM-2FsvKnkpqrfb9_QadHjBwVomSFyE8dOEdcOK3xUTIsNNMGRQkNwWlbEDTWQ-2B8RGUljhueXli6taIv-2FSy7kF3WdACJ8p0egRqXnK7rmBx6lsi9EyTt4dBQmWLqeyip3X9N-2Fi-2F-2F3oK4p-2F6yW03bzWd9SMk95ZViCLJRfIwrPmc1eYILCWvyB-2Bgv8kC8iRSM2g8LPxZjt-2FjevYEpI40ayoKPoqePmWV6OMI0bjwdR6wHhiOvOwxaB552UI5nYIzZoktKxe5eSKxbcTR2uNdDr6I0lOeOHkFvCGnOWmLciI9hHRfY7JA4yK6tYKVpweXblFtq-2F7Mtjzd3ctzEwCpH2roRjNxYI1DJZN5K9PP-2FzpYN2ggBgCi2q-2FTyxFdqDuvxW5Qi4kG5ddcIQUF04h6uNd9r4vtHQi-2BPCjzVuqy1p4r379wd5nKNcqsHDSCy3wKnDGLJ89vxsyAtbD3iA1L1S1UVU01qIKHrEhIKJQafpli-2FOX2VPoGo6cwa76t7Wm3d-2Ba0MqeWkW8dXK5w-2FKuPXenON33tdx-2FCSrPAg628dLSMr-2BGVzbei4RuXIHdQEeoU7rEYWRpi2K6rqese2BrmdV3t0-2BJacTyAEXdp3To44GSEulkBtKWmqOSKAu9CnaHEMfSajMBN26rI9YK9mPbWm-2Fsd4MUHKsrNeyn-2FtW8pKOq1T3Xk-2FfifQVB8ju7KDD7PnkP2inzkpyb1LLUWjk]\\r\\n  👋 PSST, WANT 25% OFF NOTION WEBSITES? \\r\\nHey Ajeet\\r\\n\\r\\n\\r\\n\\r\\nWe\\'ll keep this short and sweet: could we make a step in your direction by\\r\\noffering you more bang for your buck?\\r\\n\\r\\n\\r\\n\\r\\nIf you want to save some cash and upgrade from the free to the paid plan, we’ve\\r\\ngot you covered with a discount for your first payment with any paid\\r\\nsubscription.\\r\\n\\r\\n\\r\\n\\r\\nHint: this works out to be a better discount for yearly payments 👀\\r\\n\\r\\n25% off with the code: \"tQG1qnYx\"\\r\\n\\r\\n 🏦 HOW TO USE THE DISCOUNT CODE \\r\\n 1. Go to your Simple.ink Dashboard - the link works once you’re logged in\\r\\n 2. Hit “Billing” on the left side of the screen’s menu\\r\\n 3. Select your plan\\r\\n 4. Insert your coupon code (see it above)\\r\\n\\r\\nThat’s it! At this point, you should be a Simple.ink user with the paid\\r\\nsubscription. Hope you’ll enjoy the stay!\\r\\n\\r\\n 🤔 WHAT IF I DON’T LIKE THE SUBSCRIPTION? \\r\\nIf you don’t like how things work with the pricing plan, or if you simply don’t\\r\\nwant to pay for the next month, we totally get you. Cancelling your subscription\\r\\nis 100% doable at any time!\\r\\n\\r\\n 📮 DO YOU HAVE ANY QUESTIONS? \\r\\nIf you have any questions about Simple.ink and how to get the most out of your\\r\\nNotion-built website, feel free to ask us! \\r\\n\\r\\n\\r\\n\\r\\nSimply click the live chat bubble in the bottom-right corner of any page on our\\r\\nwebsite, and you’ll be connected with a live agent.\\r\\n\\r\\n\\r\\n\\r\\nIf you have a question about how to edit your Notion page which hosts your\\r\\nwebsite, make sure to check out the Notion tutorials [https://maillinkforward.encharge.io/ls/click?upn=u001.DuLmpRm9AaERwc7263RJPYG35RN6Mhirv5ZJEhegrQOybAYlXore-2Bp3JZ6fJPgaFpCHF_QadHjBwVomSFyE8dOEdcOK3xUTIsNNMGRQkNwWlbEDTWQ-2B8RGUljhueXli6taIv-2FSy7kF3WdACJ8p0egRqXnK7rmBx6lsi9EyTt4dBQmWLqeyip3X9N-2Fi-2F-2F3oK4p-2F6yW03bzWd9SMk95ZViCLJRfIwrPmc1eYILCWvyB-2Bgv8kC8iRSM2g8LPxZjt-2FjevYEpI40ayoKPoqePmWV6OMI0bjwdR6wHhiOvOwxaB552UI5nYIzZoktKxe5eSKxbcTR2uNdDr6I0lOeOHkFvCGnOWmLciI9hHRfY7JA4yK6tYKVpweXblFtq-2F7Mtjzd3ctzEwCpH2roRjNxYI1DJZN5K9PP-2FzpYN2ggBgCi2q-2FTyxFdqDuvxW5Qi4kG5ddcIQUF04h6uNd9r4vtHQi-2BPCjzVuqy1p4r379wd5nKNcqsHDSCy3wKnDGLJ89vxsyAtbD3iA1L1S1UVU01qIKHrEhIKJQafpli-2FOX2VPoGo6cwa76t7Wm3d-2Ba0MqeWkW8dXK5w-2FKuPXenON33tdx-2FCSrPAg628dLSMr-2BGVzbei4RuXIHdQHg9-2Fkc66aXK2s7P4pcoDaeoKuM50oW35ufcXnnhv4woiHnau05RMJ4-2FryQVfWGH2ea23ia8j6ArQ8q9oJBYRD7mYHZ7DpuU6zwwFgTzAPVq08WtuKAMIkENF4bGb1fJdFcd0INoD5oNK1ApHlk5CEP] \\r\\nthat we provide, since we try to answer any question related to your Notion page\\r\\nand website right there.\\r\\n\\r\\nGo to your Simple.ink dashboard [https://maillinkforward.encharge.io/ls/click?upn=u001.DuLmpRm9AaERwc7263RJPe-2BmWM89S0rdzKP1W-2F2wBc2EktUYVLSmT63cIPr3rJA6Ex6x_QadHjBwVomSFyE8dOEdcOK3xUTIsNNMGRQkNwWlbEDTWQ-2B8RGUljhueXli6taIv-2FSy7kF3WdACJ8p0egRqXnK7rmBx6lsi9EyTt4dBQmWLqeyip3X9N-2Fi-2F-2F3oK4p-2F6yW03bzWd9SMk95ZViCLJRfIwrPmc1eYILCWvyB-2Bgv8kC8iRSM2g8LPxZjt-2FjevYEpI40ayoKPoqePmWV6OMI0bjwdR6wHhiOvOwxaB552UI5nYIzZoktKxe5eSKxbcTR2uNdDr6I0lOeOHkFvCGnOWmLciI9hHRfY7JA4yK6tYKVpweXblFtq-2F7Mtjzd3ctzEwCpH2roRjNxYI1DJZN5K9PP-2FzpYN2ggBgCi2q-2FTyxFdqDuvxW5Qi4kG5ddcIQUF04h6uNd9r4vtHQi-2BPCjzVuqy1p4r379wd5nKNcqsHDSCy3wKnDGLJ89vxsyAtbD3iA1L1S1UVU01qIKHrEhIKJQafpli-2FOX2VPoGo6cwa76t7Wm3d-2Ba0MqeWkW8dXK5w-2FKuPXenON33tdx-2FCSrPAg628dLSMr-2BGVzbei4RuXIHdQGeeQDeFpmQ8clxhymhfzYi0QgCa1lFWt1ZkiYNqSckvqmDrqnhas8GMJ-2BXYIIK0sF28FkRn-2BaRnIP6xGiEYpcFLkHmurJRfPo1EWUi1WO2YaMrVhpHuIDLlntSgU-2FjmRqs4oWn4qKCtceJpMOXaQxg] \\r\\n\\r\\nCheers!\\r\\n\\r\\n\\r\\n\\r\\nStay safe and keep it Simple,\\r\\n\\r\\nThe Simple.ink team\\r\\n\\r\\nSimple.Ink\\r\\n\\r\\n366 Main Street Suite 946, Conyngham PA 18219\\r\\n\\r\\nUnsubscribe from Marketing Emails\\r\\n[https://maillinkforward.encharge.io/ls/click?upn=u001.DuLmpRm9AaERwc7263RJPb0vVjHqQGoe6Q7FvoC6YWRl81NBN690Qfo-2F1h-2BeJiwkZ0z7cKVWNRYm9cEWnB1TIPKpmejieAOgF4V8i9F62Nvh-2Bp4jnTkJmleHsEQb3UmkQ327F-2F-2BxKJIunB8i4ba5ZTT56c5s6nbqevW-2BIPrBk6PaKDwyYediKmrjaPAvY-2F8aYYQHe89p2gNWXJGok1ChaLsnYc1gYRQrhn5s6pFePz8aJ5UnpDlCOZYK5BO1iOyqmqaQbnR98O1LlxVtTvd07BEWCBuUWjTx7bH3D8UPUnld4gA5dNey4pNVNSEQe2DqYFirTYjeeaOJ-2FiwtzVuhVxZNWkKZzghNNUj0pKMz73cLjwiBJTvPAj8LMP6j7o7p6osZ9nFTBZ1EK-2FZmEmAGtMvZ76JFgkf-2B4CVmE21vsvCDnIQgFjdTHhek930tJX2-2FCemyr4dTubEXWES0ZjOks20-2Bq-2FMhsFG28T-2Bb5RxhV6YAP5qulNb9QlNXwrs7RIzhavsBDK-2FYypS-2B3dcz9SiKag-3D-3DWsKA_QadHjBwVomSFyE8dOEdcOK3xUTIsNNMGRQkNwWlbEDTWQ-2B8RGUljhueXli6taIv-2FSy7kF3WdACJ8p0egRqXnK7rmBx6lsi9EyTt4dBQmWLqeyip3X9N-2Fi-2F-2F3oK4p-2F6yW03bzWd9SMk95ZViCLJRfIwrPmc1eYILCWvyB-2Bgv8kC8iRSM2g8LPxZjt-2FjevYEpI40ayoKPoqePmWV6OMI0bjwdR6wHhiOvOwxaB552UI5nYIzZoktKxe5eSKxbcTR2uNdDr6I0lOeOHkFvCGnOWmLciI9hHRfY7JA4yK6tYKVpweXblFtq-2F7Mtjzd3ctzEwCpH2roRjNxYI1DJZN5K9PP-2FzpYN2ggBgCi2q-2FTyxFdqDuvxW5Qi4kG5ddcIQUF04h6uNd9r4vtHQi-2BPCjzVuqy1p4r379wd5nKNcqsHDSCy3wKnDGLJ89vxsyAtbD3iA1L1S1UVU01qIKHrEhIKJQafpli-2FOX2VPoGo6cwa76t7Wm3d-2Ba0MqeWkW8dXK5w-2FKuPXenON33tdx-2FCSrPAg628dLSMr-2BGVzbei4RuXIHdQEVdOM2ejUFkYI2ytC9MFAE7tHXfUWn-2B1Lj0KtX-2BrKAych3hGntkevmZ7TZ9Xy-2BxS9-2BR5GPitQi-2BQPBJkoEFBnv0AROYCbo-2FLlDzxe6XXVYV-2BAVhUDmZY-2BZvcCo1JTsOITzaTnU88LRZ9afNUuhsr10] \\r\\n Manage Communication Preferences\\r\\n[https://maillinkforward.encharge.io/ls/click?upn=u001.DuLmpRm9AaERwc7263RJPb0vVjHqQGoe6Q7FvoC6YWRl81NBN690Qfo-2F1h-2BeJiwkZ0z7cKVWNRYm9cEWnB1TIPKpmejieAOgF4V8i9F62Nvh-2Bp4jnTkJmleHsEQb3UmkQ327F-2F-2BxKJIunB8i4ba5ZTT56c5s6nbqevW-2BIPrBk6PaKDwyYediKmrjaPAvY-2F8aYYQHe89p2gNWXJGok1ChaLsnYc1gYRQrhn5s6pFePz8aJ5UnpDlCOZYK5BO1iOyqmqaQbnR98O1LlxVtTvd07BEWCBuUWjTx7bH3D8UPUnld4gA5dNey4pNVNSEQe2DqYFirTYjeeaOJ-2FiwtzVuhVxZNWkKZzghNNUj0pKMz73cLjwiBJTvPAj8LMP6j7o7p6osZ9nFTBZ1EK-2FZmEmAGtMvZ76JFgkf-2B4CVmE21vsvCDnIQgFjdTHhek930tJX2-2FCemyr4dTubEXWES0ZjOks20-2Bq-2FMhsFG28T-2Bb5RxhV6bLR7Mt7cdqmPswmnlKZOYIzwLK_QadHjBwVomSFyE8dOEdcOK3xUTIsNNMGRQkNwWlbEDTWQ-2B8RGUljhueXli6taIv-2FSy7kF3WdACJ8p0egRqXnK7rmBx6lsi9EyTt4dBQmWLqeyip3X9N-2Fi-2F-2F3oK4p-2F6yW03bzWd9SMk95ZViCLJRfIwrPmc1eYILCWvyB-2Bgv8kC8iRSM2g8LPxZjt-2FjevYEpI40ayoKPoqePmWV6OMI0bjwdR6wHhiOvOwxaB552UI5nYIzZoktKxe5eSKxbcTR2uNdDr6I0lOeOHkFvCGnOWmLciI9hHRfY7JA4yK6tYKVpweXblFtq-2F7Mtjzd3ctzEwCpH2roRjNxYI1DJZN5K9PP-2FzpYN2ggBgCi2q-2FTyxFdqDuvxW5Qi4kG5ddcIQUF04h6uNd9r4vtHQi-2BPCjzVuqy1p4r379wd5nKNcqsHDSCy3wKnDGLJ89vxsyAtbD3iA1L1S1UVU01qIKHrEhIKJQafpli-2FOX2VPoGo6cwa76t7Wm3d-2Ba0MqeWkW8dXK5w-2FKuPXenON33tdx-2FCSrPAg628dLSMr-2BGVzbei4RuXIHdQEcEyMHqr-2BBrh-2BYIpv8C8x7ueMMU-2BVrOGR3xe6TzBoI9CDT74i0HOt28yQ6Mtvv30auyRYoIFTM0orGaHcqxPcBfpe689iJERp3Y66dRGVxW9CWB5aeIMeXgufNTVMJHKsNfbkhYbBkq2pUmT70xFVb]', 'subject': 'On the fence about building your Notion website?', 'sender': '\"Daniel from Simple.ink\" <daniel@simple.ink>'}, {'id': '18ef68a199f058f2', 'threadId': '18ef68a199f058f2', 'snippet': 'Tesla is now Austin&#39;s largest private employer! Amazing growth in a few short… ͏ ͏ ͏ ͏ ͏ ͏ ͏ ͏ ͏ ͏ ͏ ͏ ͏ ͏ ͏ ͏ ͏ ͏ ͏ ͏ ͏ ͏ ͏ ͏ ͏ ͏ ͏ ͏ ͏ ͏ ͏ ͏ ͏ ͏ ͏ ͏ ͏ ͏ ͏ ͏ ͏ ͏ ͏ ͏ ͏ ͏ ͏ ͏ ͏ ͏ ͏ ͏ ͏ ͏ ͏ ͏ ͏ ͏ ͏', 'body': \"----------------------------------------\\r\\nYour highlights\\r\\n----------------------------------------\\r\\n\\r\\n\\r\\nSuggested for you\\r\\nOmead Afshar shared a post: Tesla is now Austin's largest private employer!\\r\\n\\r\\nAmazing growth in a few short years in Texas and we are still expanding the site…\\r\\nLIKE PRAISE EMPATHY 3,743, 134 Comments\\r\\n\\r\\n\\r\\nRead more: https://www.linkedin.com/comm/feed/update/urn:li:activity:7180647820276690944?lipi=urn%3Ali%3Apage%3Aemail_email_network_conversations_01%3BV6pfeUepSbyC42UbSqcICg%3D%3D&midToken=AQGPFBOf-H1UCg&midSig=0kmlM-7-IDNHc1&trk=eml-email_network_conversations_01-network~post~cta~text-0-read~more&trkEmail=eml-email_network_conversations_01-network~post~cta~text-0-read~more-null-emm8td~lv6pfed3~6s-null-null&eid=emm8td-lv6pfed3-6s&otpToken=MWEwZDFhZTUxMzJiYzFjM2I3MjQwNGVkNDcxZGUyYjc4Y2NjZDI0MjljYTc4ZDYxNzljNjA2NjY0OTUyNWZmMmY3ZDVkZjgwNjhlY2NiZmI0ZTk5ZjNhYWIxNTg3NzA3YTI5ZjI2MThiOTA1YjgzNDc4NjQ5ZiwxLDE%3D\\r\\n\\r\\nSee more on LinkedIn: https://www.linkedin.com/comm/feed/?lipi=urn%3Ali%3Apage%3Aemail_email_network_conversations_01%3BV6pfeUepSbyC42UbSqcICg%3D%3D&midToken=AQGPFBOf-H1UCg&midSig=0kmlM-7-IDNHc1&trk=eml-email_network_conversations_01-footer_promo-0-footer_see_all&trkEmail=eml-email_network_conversations_01-footer_promo-0-footer_see_all-null-emm8td~lv6pfed3~6s-null-null&eid=emm8td-lv6pfed3-6s&otpToken=MWEwZDFhZTUxMzJiYzFjM2I3MjQwNGVkNDcxZGUyYjc4Y2NjZDI0MjljYTc4ZDYxNzljNjA2NjY0OTUyNWZmMmY3ZDVkZjgwNjhlY2NiZmI0ZTk5ZjNhYWIxNTg3NzA3YTI5ZjI2MThiOTA1YjgzNDc4NjQ5ZiwxLDE%3D\\r\\n      \\r\\n\\r\\n----------------------------------------\\r\\n\\r\\nThis email was intended for Ajeet Acharya (CSIT student and learning Machine Learning. )\\r\\nLearn why we included this: https://www.linkedin.com/help/linkedin/answer/4788?lang=en&lipi=urn%3Ali%3Apage%3Aemail_email_network_conversations_01%3BV6pfeUepSbyC42UbSqcICg%3D%3D&midToken=AQGPFBOf-H1UCg&midSig=0kmlM-7-IDNHc1&trk=eml-email_network_conversations_01-SecurityHelp-0-textfooterglimmer&trkEmail=eml-email_network_conversations_01-SecurityHelp-0-textfooterglimmer-null-emm8td~lv6pfed3~6s-null-null&eid=emm8td-lv6pfed3-6s&otpToken=MWEwZDFhZTUxMzJiYzFjM2I3MjQwNGVkNDcxZGUyYjc4Y2NjZDI0MjljYTc4ZDYxNzljNjA2NjY0OTUyNWZmMmY3ZDVkZjgwNjhlY2NiZmI0ZTk5ZjNhYWIxNTg3NzA3YTI5ZjI2MThiOTA1YjgzNDc4NjQ5ZiwxLDE%3D\\r\\nYou are receiving Network Conversations emails. Some content may be automatically translated based on\\r\\n      your settings.\\r\\n\\r\\nUnsubscribe: https://www.linkedin.com/comm/psettings/email-unsubscribe?lipi=urn%3Ali%3Apage%3Aemail_email_network_conversations_01%3BV6pfeUepSbyC42UbSqcICg%3D%3D&midToken=AQGPFBOf-H1UCg&midSig=0kmlM-7-IDNHc1&trk=eml-email_network_conversations_01-unsubscribe-0-textfooterglimmer&trkEmail=eml-email_network_conversations_01-unsubscribe-0-textfooterglimmer-null-emm8td~lv6pfed3~6s-null-null&eid=emm8td-lv6pfed3-6s&loid=AQG1qB4ZdF3YAQAAAY72igKPgxUNpg_1uPZ0BCxTKLXrFu53btZbva_CcCyyfJdhM_flw1haMDbPj8jlhHiGMONEDdRFSrWMWLVFpYPrtPUP8sxHDp5DEJi2dPmfacDX\\r\\nHelp: https://www.linkedin.com/help/linkedin/answer/67?lang=en&lipi=urn%3Ali%3Apage%3Aemail_email_network_conversations_01%3BV6pfeUepSbyC42UbSqcICg%3D%3D&midToken=AQGPFBOf-H1UCg&midSig=0kmlM-7-IDNHc1&trk=eml-email_network_conversations_01-help-0-textfooterglimmer&trkEmail=eml-email_network_conversations_01-help-0-textfooterglimmer-null-emm8td~lv6pfed3~6s-null-null&eid=emm8td-lv6pfed3-6s&otpToken=MWEwZDFhZTUxMzJiYzFjM2I3MjQwNGVkNDcxZGUyYjc4Y2NjZDI0MjljYTc4ZDYxNzljNjA2NjY0OTUyNWZmMmY3ZDVkZjgwNjhlY2NiZmI0ZTk5ZjNhYWIxNTg3NzA3YTI5ZjI2MThiOTA1YjgzNDc4NjQ5ZiwxLDE%3D\\r\\n\\r\\n© 2024 LinkedIn Corporation, 1zwnj000 West Maude Avenue, Sunnyvale, CA 94085.\\r\\nLinkedIn and the LinkedIn logo are registered trademarks of LinkedIn.\", 'subject': '=?UTF-8?Q?Omead_Afshar_recently_posted_=F0=9F=92=AC?=', 'sender': 'LinkedIn <updates-noreply@linkedin.com>'}]\u001b[0m\n",
      "Thought:\u001b[32;1m\u001b[1;3mAction:\n",
      "```\n",
      "{\n",
      "  \"action\": \"Final Answer\",\n",
      "  \"action_input\": {\n",
      "    \"emails\": [\n",
      "      {\n",
      "        \"sender\": \"roshnithapaa@gmail.com\",\n",
      "        \"subject\": \"CHITCHAT\",\n",
      "        \"content\": \"Hello, how can i place my order?\"\n",
      "      },\n",
      "      {\n",
      "        \"sender\": \"roshnithapaa@gmail.com\",\n",
      "        \"subject\": \"place\",\n",
      "        \"content\": \"i want to place order.\"\n",
      "      },\n",
      "      {\n",
      "        \"sender\": \"roshnithapaa@gmail.com\",\n",
      "        \"subject\": \"FLIGHT\",\n",
      "        \"content\": \"I want to deliver myself to japan\"\n",
      "      },\n",
      "      {\n",
      "        \"sender\": \"roshnithapaa@gmail.com\",\n",
      "        \"subject\": \"flight\",\n",
      "        \"content\": \"I want to go to japan\"\n",
      "      },\n",
      "      {\n",
      "        \"sender\": \"ajeetach97701@gmail.com\",\n",
      "        \"subject\": \"Delivery Charge\",\n",
      "        \"content\": \"What is the delivery cost?\"\n",
      "      }\n",
      "    ]\n",
      "  }\n",
      "}\n",
      "```\n",
      "\u001b[0m\n",
      "\n",
      "\u001b[1m> Finished chain.\u001b[0m\n"
     ]
    },
    {
     "data": {
      "text/plain": [
       "{'emails': [{'sender': 'roshnithapaa@gmail.com',\n",
       "   'subject': 'CHITCHAT',\n",
       "   'content': 'Hello, how can i place my order?'},\n",
       "  {'sender': 'roshnithapaa@gmail.com',\n",
       "   'subject': 'place',\n",
       "   'content': 'i want to place order.'},\n",
       "  {'sender': 'roshnithapaa@gmail.com',\n",
       "   'subject': 'FLIGHT',\n",
       "   'content': 'I want to deliver myself to japan'},\n",
       "  {'sender': 'roshnithapaa@gmail.com',\n",
       "   'subject': 'flight',\n",
       "   'content': 'I want to go to japan'},\n",
       "  {'sender': 'ajeetach97701@gmail.com',\n",
       "   'subject': 'Delivery Charge',\n",
       "   'content': 'What is the delivery cost?'}]}"
      ]
     },
     "execution_count": 40,
     "metadata": {},
     "output_type": "execute_result"
    }
   ],
   "source": [
    "response = check_for_mail()\n",
    "response"
   ]
  },
  {
   "cell_type": "code",
   "execution_count": 34,
   "metadata": {},
   "outputs": [
    {
     "data": {
      "text/plain": [
       "str"
      ]
     },
     "execution_count": 34,
     "metadata": {},
     "output_type": "execute_result"
    }
   ],
   "source": [
    "type(response)"
   ]
  },
  {
   "cell_type": "code",
   "execution_count": 10,
   "metadata": {},
   "outputs": [
    {
     "data": {
      "text/plain": [
       "[{'sender': 'roshnithapaa@gmail.com',\n",
       "  'subject': 'CHITCHAT',\n",
       "  'content': 'Hello, how can i place my order?'},\n",
       " {'sender': 'roshnithapaa@gmail.com',\n",
       "  'subject': 'place',\n",
       "  'content': 'i want to place order.'},\n",
       " {'sender': 'roshnithapaa@gmail.com',\n",
       "  'subject': 'FLIGHT',\n",
       "  'content': 'I want to deliver myself to japan'},\n",
       " {'sender': 'roshnithapaa@gmail.com',\n",
       "  'subject': 'flight',\n",
       "  'content': 'I want to go to japan'},\n",
       " {'sender': 'ajeetach97701@gmail.com',\n",
       "  'subject': 'Delivery Charge',\n",
       "  'content': 'What is the delivery cost?'}]"
      ]
     },
     "execution_count": 10,
     "metadata": {},
     "output_type": "execute_result"
    }
   ],
   "source": [
    "emails"
   ]
  },
  {
   "cell_type": "code",
   "execution_count": 59,
   "metadata": {},
   "outputs": [],
   "source": [
    "prompt_template = \"\"\" {context} As a representative, I need to write an email regarding your order in email response. \n",
    "Most emails can be categorized into only one type: Orders\n",
    "Do Not respond to the email if it is not related to ORDER.\n",
    "Please write a professional reponse email based on the customer email.\n",
    "DONOT EXCEED MORE THAN 30 WORDS.\n",
    "query:```{question}```\n",
    "context:```{context}```\n",
    "Provide reply only without backticks and nothing else.\n",
    "\"\"\"\n"
   ]
  },
  {
   "cell_type": "code",
   "execution_count": 60,
   "metadata": {},
   "outputs": [],
   "source": [
    "prompt = \"\"\"\n",
    "\n",
    "You are a virtual assistant who answers users query. When a user asks a question  \n",
    "you have to answer him based on the context given in three back ticks and make sure to provide each and every details.\n",
    "context: ```{context}```\n",
    "question is given in double back ticks : ``{question}``.\n",
    "\n",
    "If the question is out of context, do not provide the wrong answer just say i am sorry i don't have an ansawer to that question.\n",
    "\n",
    "\"\"\"\n",
    "template = ChatPromptTemplate.from_template(prompt_template)\n",
    "output_parser = StrOutputParser()\n",
    "chain = RunnableMap(\n",
    "    {\n",
    "        \"context\": lambda x:db.similarity_search(x['question'], k =1),\n",
    "        \"question\": lambda x:x['question']\n",
    "    }\n",
    ")|template|llm|output_parser\n"
   ]
  },
  {
   "cell_type": "code",
   "execution_count": 23,
   "metadata": {},
   "outputs": [
    {
     "data": {
      "text/plain": [
       "[{'sender': 'roshnithapaa@gmail.com',\n",
       "  'subject': 'CHITCHAT',\n",
       "  'content': 'Hello, how can i place my order?'},\n",
       " {'sender': 'roshnithapaa@gmail.com',\n",
       "  'subject': 'place',\n",
       "  'content': 'i want to place order.'},\n",
       " {'sender': 'roshnithapaa@gmail.com',\n",
       "  'subject': 'FLIGHT',\n",
       "  'content': 'I want to deliver myself to japan'},\n",
       " {'sender': 'roshnithapaa@gmail.com',\n",
       "  'subject': 'flight',\n",
       "  'content': 'I want to go to japan'},\n",
       " {'sender': 'ajeetach97701@gmail.com',\n",
       "  'subject': 'Delivery Charge',\n",
       "  'content': 'What is the delivery cost?'}]"
      ]
     },
     "execution_count": 23,
     "metadata": {},
     "output_type": "execute_result"
    }
   ],
   "source": [
    "response.get('emails')"
   ]
  },
  {
   "cell_type": "code",
   "execution_count": 16,
   "metadata": {},
   "outputs": [
    {
     "data": {
      "text/plain": [
       "[{'sender': 'roshnithapaa@gmail.com',\n",
       "  'subject': 'CHITCHAT',\n",
       "  'content': 'Hello, how can i place my order?'},\n",
       " {'sender': 'roshnithapaa@gmail.com',\n",
       "  'subject': 'place',\n",
       "  'content': 'i want to place order.'},\n",
       " {'sender': 'roshnithapaa@gmail.com',\n",
       "  'subject': 'FLIGHT',\n",
       "  'content': 'I want to deliver myself to japan'},\n",
       " {'sender': 'roshnithapaa@gmail.com',\n",
       "  'subject': 'flight',\n",
       "  'content': 'I want to go to japan'},\n",
       " {'sender': 'ajeetach97701@gmail.com',\n",
       "  'subject': 'Delivery Charge',\n",
       "  'content': 'What is the delivery cost?'}]"
      ]
     },
     "execution_count": 16,
     "metadata": {},
     "output_type": "execute_result"
    }
   ],
   "source": [
    "email_data = response['emails']\n",
    "email_data"
   ]
  },
  {
   "cell_type": "markdown",
   "metadata": {},
   "source": []
  },
  {
   "cell_type": "code",
   "execution_count": 20,
   "metadata": {},
   "outputs": [
    {
     "data": {
      "text/plain": [
       "{'sender': 'roshnithapaa@gmail.com',\n",
       " 'subject': 'place',\n",
       " 'content': 'i want to place order.'}"
      ]
     },
     "execution_count": 20,
     "metadata": {},
     "output_type": "execute_result"
    }
   ],
   "source": [
    "to_send = email_data[1]"
   ]
  },
  {
   "cell_type": "code",
   "execution_count": null,
   "metadata": {},
   "outputs": [],
   "source": [
    "send_email(to_email, subject, message):"
   ]
  },
  {
   "cell_type": "code",
   "execution_count": 56,
   "metadata": {},
   "outputs": [],
   "source": [
    "import os, smtplib\n",
    "import email.message as em\n",
    "\n",
    "\n",
    "def send_email(to_email, subject, message):\n",
    "    smtp_server = os.getenv('SMTP_HOST')\n",
    "    smtp_port = int(os.getenv('SMTP_PORT'))  # Convert to int\n",
    "    sender_email = os.getenv('EMAIL_DEV')\n",
    "    password = os.getenv('EMAIL_PASSWORD')\n",
    "\n",
    "    msg = em.Message()\n",
    "    msg['From'] = sender_email\n",
    "    msg['To'] = to_email\n",
    "    msg['Subject'] = subject\n",
    "    msg.add_header('Content-Type', 'text/html')\n",
    "    msg.set_payload(message)\n",
    "\n",
    "    smtp = smtplib.SMTP(smtp_server, smtp_port)\n",
    "    smtp.starttls()\n",
    "    smtp.login(sender_email, password)\n",
    "    smtp.sendmail(msg['From'], [msg['To']], msg.as_string())\n",
    "    smtp.quit()\n",
    "    print(\"Successfully sent email to\", to_email)\n"
   ]
  },
  {
   "cell_type": "code",
   "execution_count": 57,
   "metadata": {},
   "outputs": [
    {
     "name": "stdout",
     "output_type": "stream",
     "text": [
      "Hello, how can i place my order?\n",
      "Successfully sent email to roshnithapaa@gmail.com\n",
      "I am sorry, I don't have an answer to that question.\n",
      "i want to place order.\n",
      "Successfully sent email to roshnithapaa@gmail.com\n",
      "I am sorry, I don't have an answer to that question.\n",
      "I want to deliver myself to japan\n",
      "Successfully sent email to roshnithapaa@gmail.com\n",
      "I am sorry, I don't have an answer to that question.\n",
      "I want to go to japan\n",
      "Successfully sent email to roshnithapaa@gmail.com\n",
      "I am sorry I don't have an answer to that question.\n",
      "What is the delivery cost?\n",
      "Successfully sent email to ajeetach97701@gmail.com\n",
      "```\n",
      "What is the delivery cost?\n",
      "The delivery charge is $3.\n",
      "```\n"
     ]
    }
   ],
   "source": [
    "for email in email_data:\n",
    "    print(email['content'])\n",
    "    result = chain.invoke({\"question\":email['content']})\n",
    "    send_email(to_email=email['sender'], subject=email['subject'], message=result)\n",
    "    print(result)"
   ]
  },
  {
   "cell_type": "code",
   "execution_count": null,
   "metadata": {},
   "outputs": [],
   "source": []
  },
  {
   "cell_type": "code",
   "execution_count": null,
   "metadata": {},
   "outputs": [],
   "source": []
  },
  {
   "cell_type": "code",
   "execution_count": null,
   "metadata": {},
   "outputs": [],
   "source": []
  },
  {
   "cell_type": "code",
   "execution_count": 44,
   "metadata": {},
   "outputs": [],
   "source": [
    "import os, smtplib\n",
    "import email.message \n",
    "\n",
    "\n",
    "def send_email(to_email, subject, message):\n",
    "    smtp_server = os.getenv('SMTP_HOST')\n",
    "    smtp_port = int(os.getenv('SMTP_PORT'))  # Convert to int\n",
    "    sender_email = os.getenv('EMAIL_DEV')\n",
    "    password = os.getenv('EMAIL_PASSWORD')\n",
    "\n",
    "    msg = email.message.Message()\n",
    "    msg['From'] = sender_email\n",
    "    msg['To'] = to_email\n",
    "    msg['Subject'] = subject\n",
    "    msg.add_header('Content-Type', 'text/html')\n",
    "    msg.set_payload(message)\n",
    "\n",
    "    smtp = smtplib.SMTP(smtp_server, smtp_port)\n",
    "    smtp.starttls()\n",
    "    smtp.login(sender_email, password)\n",
    "    smtp.sendmail(msg['From'], [msg['To']], msg.as_string())\n",
    "    smtp.quit()\n",
    "    print(\"Successfully sent email to\", to_email)\n"
   ]
  },
  {
   "cell_type": "code",
   "execution_count": null,
   "metadata": {},
   "outputs": [],
   "source": []
  }
 ],
 "metadata": {
  "kernelspec": {
   "display_name": "Python 3",
   "language": "python",
   "name": "python3"
  },
  "language_info": {
   "codemirror_mode": {
    "name": "ipython",
    "version": 3
   },
   "file_extension": ".py",
   "mimetype": "text/x-python",
   "name": "python",
   "nbconvert_exporter": "python",
   "pygments_lexer": "ipython3",
   "version": "3.11.0"
  }
 },
 "nbformat": 4,
 "nbformat_minor": 2
}
